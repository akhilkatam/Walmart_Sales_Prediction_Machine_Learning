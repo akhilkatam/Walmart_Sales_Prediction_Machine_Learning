{
 "cells": [
  {
   "cell_type": "code",
   "execution_count": 1,
   "id": "3f80bafc",
   "metadata": {},
   "outputs": [],
   "source": [
    "import numpy as np\n",
    "import pandas as pd\n",
    "import pickle\n",
    "\n",
    "from sklearn.ensemble import RandomForestRegressor\n",
    "from sklearn import preprocessing"
   ]
  },
  {
   "cell_type": "code",
   "execution_count": 2,
   "id": "d1c73823",
   "metadata": {},
   "outputs": [
    {
     "name": "stderr",
     "output_type": "stream",
     "text": [
      "C:\\Users\\kanka\\AppData\\Local\\Temp\\ipykernel_26496\\1693269746.py:1: DtypeWarning: Columns (14,15,16,17) have mixed types. Specify dtype option on import or set low_memory=False.\n",
      "  dataframe = pd.read_csv(\"merged_data.csv\")\n"
     ]
    }
   ],
   "source": [
    "dataframe = pd.read_csv(\"merged_data.csv\")"
   ]
  },
  {
   "cell_type": "code",
   "execution_count": 3,
   "id": "9caeefa8",
   "metadata": {},
   "outputs": [
    {
     "name": "stdout",
     "output_type": "stream",
     "text": [
      "<class 'pandas.core.frame.DataFrame'>\n",
      "RangeIndex: 58327370 entries, 0 to 58327369\n",
      "Data columns (total 22 columns):\n",
      " #   Column        Dtype  \n",
      "---  ------        -----  \n",
      " 0   id            object \n",
      " 1   item_id       object \n",
      " 2   dept_id       object \n",
      " 3   cat_id        object \n",
      " 4   store_id      object \n",
      " 5   state_id      object \n",
      " 6   d             object \n",
      " 7   sales         int64  \n",
      " 8   date          object \n",
      " 9   wm_yr_wk      int64  \n",
      " 10  weekday       object \n",
      " 11  wday          int64  \n",
      " 12  month         int64  \n",
      " 13  year          int64  \n",
      " 14  event_name_1  object \n",
      " 15  event_type_1  object \n",
      " 16  event_name_2  object \n",
      " 17  event_type_2  object \n",
      " 18  snap_CA       int64  \n",
      " 19  snap_TX       int64  \n",
      " 20  snap_WI       int64  \n",
      " 21  sell_price    float64\n",
      "dtypes: float64(1), int64(8), object(13)\n",
      "memory usage: 43.7 GB\n"
     ]
    }
   ],
   "source": [
    "dataframe.info(memory_usage='deep')"
   ]
  },
  {
   "cell_type": "code",
   "execution_count": 4,
   "id": "c1087c72",
   "metadata": {},
   "outputs": [
    {
     "name": "stdout",
     "output_type": "stream",
     "text": [
      "763\n",
      "11613\n",
      "7\n",
      "12\n",
      "2016\n",
      "1\n",
      "1\n",
      "1\n",
      "107.32\n"
     ]
    }
   ],
   "source": [
    "print(dataframe['sales'].max())\n",
    "print(dataframe['wm_yr_wk'].max())\n",
    "print(dataframe['wday'].max())\n",
    "print(dataframe['month'].max())\n",
    "print(dataframe['year'].max())\n",
    "print(dataframe['snap_CA'].max())\n",
    "print(dataframe['snap_TX'].max())\n",
    "print(dataframe['snap_WI'].max())\n",
    "print(dataframe['sell_price'].max())"
   ]
  },
  {
   "cell_type": "code",
   "execution_count": 6,
   "id": "328415c2",
   "metadata": {},
   "outputs": [
    {
     "name": "stdout",
     "output_type": "stream",
     "text": [
      "-1984\n"
     ]
    }
   ],
   "source": [
    "dataframe['year'] = dataframe['year'] - 2000\n",
    "print(dataframe['year'].max())"
   ]
  },
  {
   "cell_type": "code",
   "execution_count": 7,
   "id": "7e4e5cf2",
   "metadata": {},
   "outputs": [],
   "source": [
    "dataframe['sales'] = dataframe['sales'].astype('int16')\n",
    "dataframe['wm_yr_wk'] = dataframe['wm_yr_wk'].astype('int16')\n",
    "dataframe['wday'] = dataframe['wday'].astype('int8')\n",
    "dataframe['month'] = dataframe['month'].astype('int8')\n",
    "dataframe['year'] = dataframe['year'].astype('int8')\n",
    "dataframe['snap_CA'] = dataframe['snap_CA'].astype('int8')\n",
    "dataframe['snap_TX'] = dataframe['snap_TX'].astype('int8')\n",
    "dataframe['snap_WI'] = dataframe['snap_WI'].astype('int8')\n"
   ]
  },
  {
   "cell_type": "code",
   "execution_count": 8,
   "id": "42467c48",
   "metadata": {},
   "outputs": [
    {
     "name": "stdout",
     "output_type": "stream",
     "text": [
      "<class 'pandas.core.frame.DataFrame'>\n",
      "RangeIndex: 58327370 entries, 0 to 58327369\n",
      "Data columns (total 22 columns):\n",
      " #   Column        Dtype  \n",
      "---  ------        -----  \n",
      " 0   id            object \n",
      " 1   item_id       object \n",
      " 2   dept_id       object \n",
      " 3   cat_id        object \n",
      " 4   store_id      object \n",
      " 5   state_id      object \n",
      " 6   d             object \n",
      " 7   sales         int16  \n",
      " 8   date          object \n",
      " 9   wm_yr_wk      int16  \n",
      " 10  weekday       object \n",
      " 11  wday          int8   \n",
      " 12  month         int8   \n",
      " 13  year          int8   \n",
      " 14  event_name_1  object \n",
      " 15  event_type_1  object \n",
      " 16  event_name_2  object \n",
      " 17  event_type_2  object \n",
      " 18  snap_CA       int8   \n",
      " 19  snap_TX       int8   \n",
      " 20  snap_WI       int8   \n",
      " 21  sell_price    float64\n",
      "dtypes: float64(1), int16(2), int8(6), object(13)\n",
      "memory usage: 40.8 GB\n"
     ]
    }
   ],
   "source": [
    "dataframe.info(memory_usage='deep')"
   ]
  },
  {
   "cell_type": "code",
   "execution_count": 9,
   "id": "9d7e982a",
   "metadata": {},
   "outputs": [],
   "source": [
    "dataframe['snap_CA'] = dataframe['snap_CA'].astype('category')\n",
    "dataframe['snap_TX'] = dataframe['snap_TX'].astype('category')\n",
    "dataframe['snap_WI'] = dataframe['snap_WI'].astype('category')\n",
    "dataframe['event_name_1'] = dataframe['event_name_1'].astype('category')\n",
    "dataframe['event_type_1'] = dataframe['event_type_1'].astype('category')\n",
    "dataframe['event_name_2'] = dataframe['event_name_2'].astype('category')\n",
    "dataframe['event_type_2'] = dataframe['event_type_2'].astype('category')\n",
    "dataframe['id'] = dataframe['id'].astype('category')\n",
    "dataframe['item_id'] = dataframe['id'].astype('category')\n",
    "dataframe['dept_id'] = dataframe['id'].astype('category')\n",
    "dataframe['cat_id'] = dataframe['id'].astype('category')\n",
    "dataframe['store_id'] = dataframe['id'].astype('category')\n",
    "dataframe['state_id'] = dataframe['id'].astype('category')\n",
    "dataframe['weekday'] = dataframe['weekday'].astype('category')\n",
    "dataframe['d'] = dataframe['d'].str[2:]\n",
    "dataframe['d'] = dataframe['d'].astype('int16')\n",
    "dataframe['date'] = pd.to_datetime(dataframe['date'])\n",
    "dataframe['sell_price'] = dataframe['sell_price'].astype('float16')"
   ]
  },
  {
   "cell_type": "code",
   "execution_count": 10,
   "id": "75257d84",
   "metadata": {},
   "outputs": [
    {
     "name": "stdout",
     "output_type": "stream",
     "text": [
      "<class 'pandas.core.frame.DataFrame'>\n",
      "RangeIndex: 58327370 entries, 0 to 58327369\n",
      "Data columns (total 22 columns):\n",
      " #   Column        Dtype         \n",
      "---  ------        -----         \n",
      " 0   id            category      \n",
      " 1   item_id       category      \n",
      " 2   dept_id       category      \n",
      " 3   cat_id        category      \n",
      " 4   store_id      category      \n",
      " 5   state_id      category      \n",
      " 6   d             int16         \n",
      " 7   sales         int16         \n",
      " 8   date          datetime64[ns]\n",
      " 9   wm_yr_wk      int16         \n",
      " 10  weekday       category      \n",
      " 11  wday          int8          \n",
      " 12  month         int8          \n",
      " 13  year          int8          \n",
      " 14  event_name_1  category      \n",
      " 15  event_type_1  category      \n",
      " 16  event_name_2  category      \n",
      " 17  event_type_2  category      \n",
      " 18  snap_CA       category      \n",
      " 19  snap_TX       category      \n",
      " 20  snap_WI       category      \n",
      " 21  sell_price    float16       \n",
      "dtypes: category(14), datetime64[ns](1), float16(1), int16(3), int8(3)\n",
      "memory usage: 2.1 GB\n"
     ]
    }
   ],
   "source": [
    "dataframe.info(memory_usage='deep')\n"
   ]
  },
  {
   "cell_type": "code",
   "execution_count": 11,
   "id": "cec18753",
   "metadata": {},
   "outputs": [],
   "source": [
    "dataframe.to_pickle('reduced.pickle')"
   ]
  }
 ],
 "metadata": {
  "kernelspec": {
   "display_name": "Python 3 (ipykernel)",
   "language": "python",
   "name": "python3"
  },
  "language_info": {
   "codemirror_mode": {
    "name": "ipython",
    "version": 3
   },
   "file_extension": ".py",
   "mimetype": "text/x-python",
   "name": "python",
   "nbconvert_exporter": "python",
   "pygments_lexer": "ipython3",
   "version": "3.9.12"
  }
 },
 "nbformat": 4,
 "nbformat_minor": 5
}
